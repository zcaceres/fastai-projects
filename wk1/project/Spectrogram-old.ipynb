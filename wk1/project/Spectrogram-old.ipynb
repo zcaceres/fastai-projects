{
 "cells": [
  {
   "cell_type": "markdown",
   "metadata": {},
   "source": [
    "# Predicting Classical Composers from Spectrograms"
   ]
  },
  {
   "cell_type": "markdown",
   "metadata": {},
   "source": [
    "Let's try to accurately predict composers from spectrograms of their compositions. We're going to see if we can predict a composer without any data about instrumentation or dynamics, just the notes themselves."
   ]
  },
  {
   "cell_type": "code",
   "execution_count": 2,
   "metadata": {},
   "outputs": [],
   "source": [
    "%reload_ext autoreload\n",
    "%autoreload 2\n",
    "%matplotlib inline"
   ]
  },
  {
   "cell_type": "markdown",
   "metadata": {},
   "source": [
    "### Imports"
   ]
  },
  {
   "cell_type": "code",
   "execution_count": 3,
   "metadata": {},
   "outputs": [],
   "source": [
    "from fastai import *\n",
    "from fastai.vision import *"
   ]
  },
  {
   "cell_type": "markdown",
   "metadata": {},
   "source": [
    "## Data\n",
    "The data was found on a subreddit for DJs who use MIDI files to sample classical music.\n",
    "\n",
    "It included 370,000 MIDI files, which were filtered to classical compositions and organized by composer.\n",
    "\n",
    "The data is a mess. Some folders are composers, some are compositions, and there's no clear order to any of the files.\n",
    "\n",
    "![messy data](./normalization_1.png)\n",
    "\n",
    "We needed two conversion steps to prepare this data for image classification.\n",
    "\n",
    "### Normalization\n",
    "We'll use folder names as our labels, so let's normalize our folder names first.\n",
    "\n",
    "```py\n",
    "from pathlib import Path\n",
    "from sys import argv\n",
    "\n",
    "# Downcases the names of all directories inside the current directory.\n",
    "\n",
    "path = Path('.')\n",
    "dirs = [file for file in path.iterdir() if file.is_dir()]\n",
    "for (x, dir) in enumerate(dirs):\n",
    "    print('Changing', dir)\n",
    "    dir.rename(dir.name.lower())\n",
    "print('Done')\n",
    "```"
   ]
  },
  {
   "cell_type": "markdown",
   "metadata": {},
   "source": [
    "Next, let's normalize our file names to get them ready for conversion.\n",
    "\n",
    "```py\n",
    "#!/usr/bin/env python3\n",
    "\n",
    "from pathlib import Path\n",
    "from sys import argv\n",
    "\n",
    "# Recursive Renaming!\n",
    "# Converts all files in a directory to the format [foldername]_[filenumber]\n",
    "# WARNING! By default, operates on root directory. Otherwise pass in a folder name\n",
    "# as first argv.\n",
    "def rename_files(folder_path, folder_name):\n",
    "    files = [file for file in folder_path.iterdir() if file.is_file() and (\"mid\" in file.name or \"MID\" in file.name)]\n",
    "    for (x, file) in enumerate(files):\n",
    "        print('Renaming', file)\n",
    "        file.rename(f'{folder_path}/{folder_name}_{x}.mid')\n",
    "    print('Done')\n",
    "\n",
    "def recursive_rename(dir_path):\n",
    "    folders = [folder for folder in dir_path.iterdir() if folder.is_dir()]\n",
    "    for folder in folders:\n",
    "        print('Renaming:', folder.name)\n",
    "        rename_files(root_path/f'{folder.name}', folder.name)\n",
    "\n",
    "root_path = argv[1] if len(argv) > 1 else Path('.')\n",
    "recursive_rename(root_path)\n",
    "```"
   ]
  },
  {
   "cell_type": "markdown",
   "metadata": {},
   "source": [
    "### MIDI to WAV\n",
    "Next we need to convert our MIDI files to wavs, so we can process them into a spectrogram.\n",
    "\n",
    "MIDI files not only encode the notes of a given composition, but also data about the instruments. Since we're looking for patterns in the the notes themselves, we're going to use convert all midis to the same synth. All compositions will use an organ-like sound.\n",
    "\n",
    "We'll use a [NodeJS package called synth](https://github.com/patrickroberts/synth-js) to handle the conversion.\n",
    "\n",
    "Here's a script that calls its companion bash script to convert all midi files in a directory. The bash and python scripts should be in the same directory. You can call it like this: ```./convert_all_midi_files.py ./my-compositions-directory```\n",
    "\n",
    "```py\n",
    "#!/usr/bin/env python3\n",
    "\n",
    "from pathlib import Path\n",
    "from sys import argv\n",
    "import subprocess\n",
    "import shlex\n",
    "\n",
    "# Takes in a directory and converts all midi files to .wav\n",
    "\n",
    "def convert_all_midi_to_wav(folder_path):\n",
    "    files = [file for file in folder_path.iterdir() if file.is_file() and (\"mid\" in file.name)]\n",
    "    for (x, file) in enumerate(files):\n",
    "        without_file_extension = file.name[:-4]\n",
    "        resolved = Path(f'{folder_path}/{without_file_extension}')\n",
    "        # synth adds .mid to input file by default, so we remove it first\n",
    "        if (Path(f'{resolved}.wav').is_file() == False):\n",
    "            # Check if .wav exists, so we can safely re-run the file without re-converting\n",
    "            # any files that were already converted\n",
    "            print('Converting...', without_file_extension)\n",
    "            subprocess.call(shlex.split(f'./convert_midi_to_wav.sh {resolved}'))\n",
    "\n",
    "\n",
    "def do_recursively_on_folders(dir_path, action):\n",
    "    folders = [folder for folder in dir_path.iterdir() if folder.is_dir()]\n",
    "    for folder in folders:\n",
    "        action(folder)\n",
    "\n",
    "path = Path(argv[1])\n",
    "do_recursively_on_folders(path, convert_all_midi_to_wav)\n",
    "\n",
    "```\n",
    "\n",
    "Here's the companion bash script.\n",
    "```sh\n",
    "#!/usr/bin/env bash\n",
    "\n",
    "synth -i $1\n",
    "```\n",
    "\n",
    "Conversion may take a long time! Don't worry if something fails or gets interrupted. You can call the script as many times as you need without worrying about overwriting or losing the files you've already converted.\n",
    "\n",
    "![converting to .wav files](./conversion.gif)"
   ]
  },
  {
   "cell_type": "markdown",
   "metadata": {},
   "source": [
    "### WAV to Spectrogram\n",
    "\n",
    "With our data organized by composer and converted to .wav files, it's time to make our spectrograms!\n",
    "\n",
    "A [spectrogram](https://en.wikipedia.org/wiki/Spectrogram) is a visual representation of sound and its properties. \n",
    "\n",
    "Spectrograms plot frequency on the y axis and time on the x axis. The intensity of colors suggests a higher density of a given frequency.\n",
    "\n",
    "Here's how we can convert all our .wav files to spectrograms.\n",
    "\n",
    "```py\n",
    "#!/usr/bin/env python3\n",
    "\n",
    "from pathlib import Path\n",
    "from sys import argv\n",
    "from scipy import signal\n",
    "from scipy.io import wavfile\n",
    "import numpy as np\n",
    "import matplotlib.pyplot as plt\n",
    "\n",
    "def create_spectrograms(folder_path):\n",
    "    files = [file for file in folder_path.iterdir() if file.is_file() and (\"wav\" in file.name)]\n",
    "    for (x, file) in enumerate(files):\n",
    "        without_file_extension = file.name[:-4]\n",
    "        resolved = Path(f'{folder_path}/{without_file_extension}')\n",
    "        if (Path(f'{resolved}.png').is_file() == False):\n",
    "            print('making spectro for', resolved)\n",
    "            sample_rate, samples = wavfile.read(file)\n",
    "            frequencies, times, spectrogram = signal.spectrogram(samples, sample_rate)\n",
    "            plt.pcolormesh(np.log(spectrogram))\n",
    "            plt.axis('off')\n",
    "            plt.ylim(ymax=40)\n",
    "            # plt.show() # Uncomment if you want to check out the plot.\n",
    "            plt.savefig(f'{resolved}.png', transparent=True)\n",
    "            # saves the file as a .png with transparent background (no border)\n",
    "\n",
    "def do_recursively_on_folders(dir_path, action):\n",
    "    folders = [folder for folder in dir_path.iterdir() if folder.is_dir()]\n",
    "    for folder in folders:\n",
    "        action(folder)\n",
    "\n",
    "if (len(argv) < 2):\n",
    "    raise Exception('Please specify a path')\n",
    "path = Path(argv[1])\n",
    "do_recursively_on_folders(path, create_spectrograms)\n",
    "```\n",
    "\n",
    "Look at these beautiful spectrograms!\n",
    "\n",
    "Here's a Mozart, which looks pretty tame and orderly.\n",
    "![mozart spectrogram](./mozart_sample.png)\n",
    "\n",
    "And here's early-20th century composer [Charles Griffes](https://en.wikipedia.org/wiki/Charles_Tomlinson_Griffes), looking far more intense and Romantic.\n",
    "![charles griffes spectrogram](./griffes_sample.png)"
   ]
  },
  {
   "cell_type": "code",
   "execution_count": 4,
   "metadata": {},
   "outputs": [],
   "source": [
    "data = Path('/data')"
   ]
  },
  {
   "cell_type": "code",
   "execution_count": 5,
   "metadata": {
    "scrolled": true
   },
   "outputs": [
    {
     "data": {
      "text/plain": [
       "PosixPath('/data')"
      ]
     },
     "execution_count": 5,
     "metadata": {},
     "output_type": "execute_result"
    }
   ],
   "source": [
    "data"
   ]
  },
  {
   "cell_type": "markdown",
   "metadata": {},
   "source": [
    "### Labels"
   ]
  },
  {
   "cell_type": "code",
   "execution_count": null,
   "metadata": {},
   "outputs": [],
   "source": [
    "labels = "
   ]
  },
  {
   "cell_type": "markdown",
   "metadata": {},
   "source": [
    "### Create Learner and Training\n",
    "\n",
    "Create ConvLearner.\n",
    "\n",
    "Train for some number of epochs."
   ]
  },
  {
   "cell_type": "markdown",
   "metadata": {},
   "source": [
    "### Model Analysis\n",
    "What is the model most confused about?"
   ]
  },
  {
   "cell_type": "markdown",
   "metadata": {},
   "source": [
    "### Model Tuning\n",
    "Unfreeze the model.\n",
    "Find an optimal learning rate.\n"
   ]
  },
  {
   "cell_type": "code",
   "execution_count": null,
   "metadata": {},
   "outputs": [],
   "source": []
  }
 ],
 "metadata": {
  "kernelspec": {
   "display_name": "Python 3",
   "language": "python",
   "name": "python3"
  },
  "language_info": {
   "codemirror_mode": {
    "name": "ipython",
    "version": 3
   },
   "file_extension": ".py",
   "mimetype": "text/x-python",
   "name": "python",
   "nbconvert_exporter": "python",
   "pygments_lexer": "ipython3",
   "version": "3.6.5"
  }
 },
 "nbformat": 4,
 "nbformat_minor": 2
}
