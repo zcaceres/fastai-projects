{
 "cells": [
  {
   "cell_type": "markdown",
   "metadata": {},
   "source": [
    "# Tabular example"
   ]
  },
  {
   "cell_type": "code",
   "execution_count": 1,
   "metadata": {},
   "outputs": [],
   "source": [
    "from fastai import *          # Quick accesss to most common functionality\n",
    "from fastai.tabular import *  # Quick accesss to tabular functionality     # Access to example data provided with fastai"
   ]
  },
  {
   "cell_type": "markdown",
   "metadata": {},
   "source": [
    "Tabular data should be in a Pandas `DataFrame`."
   ]
  },
  {
   "cell_type": "code",
   "execution_count": 2,
   "metadata": {},
   "outputs": [],
   "source": [
    "path = Path('~/.fastai/data/googleplaystore')\n",
    "df = pd.read_csv(path/'googleplaystore.csv')"
   ]
  },
  {
   "cell_type": "code",
   "execution_count": 3,
   "metadata": {},
   "outputs": [],
   "source": [
    "df = df.replace('price', value='/\\D/')\n",
    "median_rating = df['rating'].median()\n",
    "df['rating'].fillna(median_rating, inplace=True)"
   ]
  },
  {
   "cell_type": "code",
   "execution_count": 4,
   "metadata": {},
   "outputs": [],
   "source": [
    "dep_var = 'rating'\n",
    "cat_names = ['app', 'installs', 'category', 'type', 'content-rating', 'genres', 'last-updated', 'current-ver', 'android-ver']\n",
    "cont_names = ['reviews']\n",
    "procs = [FillMissing, Categorify, Normalize]"
   ]
  },
  {
   "cell_type": "code",
   "execution_count": 5,
   "metadata": {},
   "outputs": [],
   "source": [
    "test = TabularList.from_df(df.iloc[:-2000].copy(), path=path, cat_names=cat_names, cont_names=cont_names)"
   ]
  },
  {
   "cell_type": "code",
   "execution_count": 6,
   "metadata": {},
   "outputs": [],
   "source": [
    "valid_idx = range(len(df)-10000, len(df))"
   ]
  },
  {
   "cell_type": "code",
   "execution_count": 7,
   "metadata": {},
   "outputs": [
    {
     "ename": "ValueError",
     "evalue": "could not convert string to float: 'rating'",
     "output_type": "error",
     "traceback": [
      "\u001b[0;31m---------------------------------------------------------------------------\u001b[0m",
      "\u001b[0;31mValueError\u001b[0m                                Traceback (most recent call last)",
      "\u001b[0;32m<ipython-input-7-e948083cfa54>\u001b[0m in \u001b[0;36m<module>\u001b[0;34m\u001b[0m\n\u001b[1;32m      1\u001b[0m data = (TabularList.from_df(df, path=path, cat_names=cat_names, cont_names=cont_names, procs=procs)\n\u001b[1;32m      2\u001b[0m                            \u001b[0;34m.\u001b[0m\u001b[0msplit_by_idx\u001b[0m\u001b[0;34m(\u001b[0m\u001b[0mvalid_idx\u001b[0m\u001b[0;34m)\u001b[0m\u001b[0;34m\u001b[0m\u001b[0m\n\u001b[0;32m----> 3\u001b[0;31m                            \u001b[0;34m.\u001b[0m\u001b[0mlabel_from_df\u001b[0m\u001b[0;34m(\u001b[0m\u001b[0mcols\u001b[0m\u001b[0;34m=\u001b[0m\u001b[0mfloat\u001b[0m\u001b[0;34m(\u001b[0m\u001b[0mdep_var\u001b[0m\u001b[0;34m)\u001b[0m\u001b[0;34m,\u001b[0m \u001b[0mlabel_cls\u001b[0m\u001b[0;34m=\u001b[0m\u001b[0mFloatList\u001b[0m\u001b[0;34m)\u001b[0m\u001b[0;34m\u001b[0m\u001b[0m\n\u001b[0m\u001b[1;32m      4\u001b[0m                            \u001b[0;34m.\u001b[0m\u001b[0madd_test\u001b[0m\u001b[0;34m(\u001b[0m\u001b[0mtest\u001b[0m\u001b[0;34m,\u001b[0m \u001b[0mlabel\u001b[0m\u001b[0;34m=\u001b[0m\u001b[0;36m0\u001b[0m\u001b[0;34m)\u001b[0m\u001b[0;34m\u001b[0m\u001b[0m\n\u001b[1;32m      5\u001b[0m                            .databunch())\n",
      "\u001b[0;31mValueError\u001b[0m: could not convert string to float: 'rating'"
     ]
    }
   ],
   "source": [
    "data = (TabularList.from_df(df, path=path, cat_names=cat_names, cont_names=cont_names, procs=procs)\n",
    "                           .split_by_idx(valid_idx)\n",
    "                           .label_from_df(cols=dep_var, label_cls=FloatList)\n",
    "                           .add_test(test, label=0)\n",
    "                           .databunch())"
   ]
  },
  {
   "cell_type": "code",
   "execution_count": 8,
   "metadata": {},
   "outputs": [
    {
     "ename": "NameError",
     "evalue": "name 'data' is not defined",
     "output_type": "error",
     "traceback": [
      "\u001b[0;31m---------------------------------------------------------------------------\u001b[0m",
      "\u001b[0;31mNameError\u001b[0m                                 Traceback (most recent call last)",
      "\u001b[0;32m<ipython-input-8-a16599ba5afd>\u001b[0m in \u001b[0;36m<module>\u001b[0;34m\u001b[0m\n\u001b[0;32m----> 1\u001b[0;31m \u001b[0mdata\u001b[0m\u001b[0;34m.\u001b[0m\u001b[0mshow_batch\u001b[0m\u001b[0;34m(\u001b[0m\u001b[0mrows\u001b[0m\u001b[0;34m=\u001b[0m\u001b[0;36m20\u001b[0m\u001b[0;34m)\u001b[0m\u001b[0;34m\u001b[0m\u001b[0m\n\u001b[0m",
      "\u001b[0;31mNameError\u001b[0m: name 'data' is not defined"
     ]
    }
   ],
   "source": [
    "data.show_batch(rows=20)"
   ]
  },
  {
   "cell_type": "code",
   "execution_count": 144,
   "metadata": {},
   "outputs": [],
   "source": [
    "learn = get_tabular_learner(data, layers=[100,100], metrics=exp_rmspe)"
   ]
  },
  {
   "cell_type": "code",
   "execution_count": 108,
   "metadata": {
    "scrolled": true
   },
   "outputs": [
    {
     "name": "stdout",
     "output_type": "stream",
     "text": [
      "Total time: 00:10\n",
      "epoch  train_loss  valid_loss  exp_rmspe\n",
      "1      18.058348   17.352804   0.981112   (00:00)\n",
      "2      17.420378   14.951429   0.974597   (00:01)\n",
      "3      15.555493   8.697075    0.937709   (00:01)\n",
      "4      12.199826   2.264064    0.782442   (00:01)\n",
      "5      8.739432    0.515940    0.799265   (00:00)\n",
      "6      6.173620    0.284290    1.193607   (00:01)\n",
      "7      4.427686    0.263597    1.223305   (00:01)\n",
      "8      3.221143    0.258018    1.229012   (00:02)\n",
      "\n"
     ]
    }
   ],
   "source": [
    "learn.fit_one_cycle(8)"
   ]
  },
  {
   "cell_type": "code",
   "execution_count": 109,
   "metadata": {},
   "outputs": [],
   "source": [
    "learn.save('first-try')"
   ]
  },
  {
   "cell_type": "code",
   "execution_count": 145,
   "metadata": {},
   "outputs": [
    {
     "data": {
      "text/plain": [
       "Learner(data=DataBunch;\n",
       "Train: LabelList\n",
       "y: FloatList (841 items)\n",
       "[FloatItem 4.099999904632568, FloatItem 3.9000000953674316, FloatItem 4.699999809265137, FloatItem 4.5, FloatItem 4.300000190734863]...\n",
       "Path: .\n",
       "x: TabularList (841 items)\n",
       "[TabularLine app Photo Editor & Candy Camera & Grid & ScrapBook; installs 10,000+; category ART_AND_DESIGN; type Free; content-rating Everyone; genres Art & Design; last-updated January 7, 2018; current-ver 1.0.0; android-ver 4.0.3 and up; reviews -0.1571; , TabularLine app Coloring book moana; installs 500,000+; category ART_AND_DESIGN; type Free; content-rating Everyone; genres Art & Design;Pretend Play; last-updated January 15, 2018; current-ver 2.0.0; android-ver 4.0.3 and up; reviews -0.1569; , TabularLine app U Launcher Lite – FREE Live Cool Themes, Hide Apps; installs 5,000,000+; category ART_AND_DESIGN; type Free; content-rating Everyone; genres Art & Design; last-updated August 1, 2018; current-ver 1.2.4; android-ver 4.0.3 and up; reviews -0.1383; , TabularLine app Sketch - Draw & Paint; installs 50,000,000+; category ART_AND_DESIGN; type Free; content-rating Teen; genres Art & Design; last-updated June 8, 2018; current-ver Varies with device; android-ver 4.2 and up; reviews -0.1108; , TabularLine app Pixel Draw - Number Art Coloring Book; installs 100,000+; category ART_AND_DESIGN; type Free; content-rating Everyone; genres Art & Design;Creativity; last-updated June 20, 2018; current-ver 1.1; android-ver 4.4 and up; reviews -0.1569; ]...\n",
       "Path: ~/.fastai/data/googleplaystore;\n",
       "Valid: LabelList\n",
       "y: FloatList (10000 items)\n",
       "[FloatItem 3.5, FloatItem 4.199999809265137, FloatItem 4.400000095367432, FloatItem 4.400000095367432, FloatItem 4.599999904632568]...\n",
       "Path: .\n",
       "x: TabularList (10000 items)\n",
       "[TabularLine app nan; installs 100,000+; category EDUCATION; type Free; content-rating Everyone; genres Education; last-updated March 29, 2018; current-ver nan; android-ver 4.0 and up; reviews -0.1568; , TabularLine app Google Classroom; installs 10,000,000+; category EDUCATION; type Free; content-rating Everyone; genres Education; last-updated July 19, 2018; current-ver Varies with device; android-ver Varies with device; reviews -0.1422; , TabularLine app ClassDojo; installs 10,000,000+; category EDUCATION; type Free; content-rating Everyone; genres Education;Education; last-updated August 3, 2018; current-ver 4.21.1; android-ver 4.1 and up; reviews -0.1252; , TabularLine app HelloTalk — Chat, Speak & Learn Foreign Languages; installs 5,000,000+; category EDUCATION; type Free; content-rating Everyone; genres Education; last-updated July 25, 2018; current-ver 2.6.6; android-ver 4.1 and up; reviews -0.1390; , TabularLine app Quizlet: Learn Languages & Vocab with Flashcards; installs 10,000,000+; category EDUCATION; type Free; content-rating Everyone; genres Education; last-updated August 1, 2018; current-ver Varies with device; android-ver Varies with device; reviews -0.1116; ]...\n",
       "Path: ~/.fastai/data/googleplaystore;\n",
       "Test: LabelList\n",
       "y: FloatList (8841 items)\n",
       "[FloatItem 0.0, FloatItem 0.0, FloatItem 0.0, FloatItem 0.0, FloatItem 0.0]...\n",
       "Path: .\n",
       "x: TabularList (8841 items)\n",
       "[TabularLine app Photo Editor & Candy Camera & Grid & ScrapBook; installs 10,000+; category ART_AND_DESIGN; type Free; content-rating Everyone; genres Art & Design; last-updated January 7, 2018; current-ver 1.0.0; android-ver 4.0.3 and up; reviews -0.1571; , TabularLine app Coloring book moana; installs 500,000+; category ART_AND_DESIGN; type Free; content-rating Everyone; genres Art & Design;Pretend Play; last-updated January 15, 2018; current-ver 2.0.0; android-ver 4.0.3 and up; reviews -0.1571; , TabularLine app U Launcher Lite – FREE Live Cool Themes, Hide Apps; installs 5,000,000+; category ART_AND_DESIGN; type Free; content-rating Everyone; genres Art & Design; last-updated August 1, 2018; current-ver 1.2.4; android-ver 4.0.3 and up; reviews -0.1571; , TabularLine app Sketch - Draw & Paint; installs 50,000,000+; category ART_AND_DESIGN; type Free; content-rating Teen; genres Art & Design; last-updated June 8, 2018; current-ver Varies with device; android-ver 4.2 and up; reviews -0.1571; , TabularLine app Pixel Draw - Number Art Coloring Book; installs 100,000+; category ART_AND_DESIGN; type Free; content-rating Everyone; genres Art & Design;Creativity; last-updated June 20, 2018; current-ver 1.1; android-ver 4.4 and up; reviews -0.1571; ]...\n",
       "Path: ~/.fastai/data/googleplaystore, model=TabularModel(\n",
       "  (embeds): ModuleList(\n",
       "    (0): Embedding(684, 50)\n",
       "    (1): Embedding(20, 11)\n",
       "    (2): Embedding(10, 6)\n",
       "    (3): Embedding(3, 2)\n",
       "    (4): Embedding(6, 4)\n",
       "    (5): Embedding(20, 11)\n",
       "    (6): Embedding(211, 50)\n",
       "    (7): Embedding(375, 50)\n",
       "    (8): Embedding(22, 12)\n",
       "  )\n",
       "  (emb_drop): Dropout(p=0.0)\n",
       "  (bn_cont): BatchNorm1d(1, eps=1e-05, momentum=0.1, affine=True, track_running_stats=True)\n",
       "  (layers): Sequential(\n",
       "    (0): Linear(in_features=197, out_features=100, bias=True)\n",
       "    (1): ReLU(inplace)\n",
       "    (2): BatchNorm1d(100, eps=1e-05, momentum=0.1, affine=True, track_running_stats=True)\n",
       "    (3): Linear(in_features=100, out_features=100, bias=True)\n",
       "    (4): ReLU(inplace)\n",
       "    (5): BatchNorm1d(100, eps=1e-05, momentum=0.1, affine=True, track_running_stats=True)\n",
       "    (6): Linear(in_features=100, out_features=1, bias=True)\n",
       "  )\n",
       "), opt_func=functools.partial(<class 'torch.optim.adam.Adam'>, betas=(0.9, 0.99)), loss_func=MSELossFlat(), metrics=[<function exp_rmspe at 0x126364048>], true_wd=True, bn_wd=True, wd=0.01, train_bn=True, path=PosixPath('~/.fastai/data/googleplaystore'), model_dir='models', callback_fns=[<class 'fastai.basic_train.Recorder'>], callbacks=[], layer_groups=[Sequential(\n",
       "  (0): Embedding(684, 50)\n",
       "  (1): Embedding(20, 11)\n",
       "  (2): Embedding(10, 6)\n",
       "  (3): Embedding(3, 2)\n",
       "  (4): Embedding(6, 4)\n",
       "  (5): Embedding(20, 11)\n",
       "  (6): Embedding(211, 50)\n",
       "  (7): Embedding(375, 50)\n",
       "  (8): Embedding(22, 12)\n",
       "  (9): Dropout(p=0.0)\n",
       "  (10): BatchNorm1d(1, eps=1e-05, momentum=0.1, affine=True, track_running_stats=True)\n",
       "  (11): Linear(in_features=197, out_features=100, bias=True)\n",
       "  (12): ReLU(inplace)\n",
       "  (13): BatchNorm1d(100, eps=1e-05, momentum=0.1, affine=True, track_running_stats=True)\n",
       "  (14): Linear(in_features=100, out_features=100, bias=True)\n",
       "  (15): BatchNorm1d(100, eps=1e-05, momentum=0.1, affine=True, track_running_stats=True)\n",
       "  (16): Linear(in_features=100, out_features=1, bias=True)\n",
       ")])"
      ]
     },
     "execution_count": 145,
     "metadata": {},
     "output_type": "execute_result"
    }
   ],
   "source": [
    "learn.load('first-try')"
   ]
  },
  {
   "cell_type": "code",
   "execution_count": 150,
   "metadata": {},
   "outputs": [
    {
     "name": "stdout",
     "output_type": "stream",
     "text": [
      "LR Finder is complete, type {learner_name}.recorder.plot() to see the graph.\n"
     ]
    },
    {
     "data": {
      "image/png": "[encoded data removed]",
      "text/plain": [
       "<Figure size 432x288 with 1 Axes>"
      ]
     },
     "metadata": {
      "needs_background": "light"
     },
     "output_type": "display_data"
    }
   ],
   "source": [
    "learn.lr_find()\n",
    "learn.recorder.plot()"
   ]
  },
  {
   "cell_type": "code",
   "execution_count": 165,
   "metadata": {},
   "outputs": [
    {
     "name": "stdout",
     "output_type": "stream",
     "text": [
      "Total time: 00:04\n",
      "epoch  train_loss  valid_loss  exp_rmspe\n",
      "1      0.079574    0.300090    1.060873   (00:00)\n",
      "2      0.085294    0.276419    1.383088   (00:00)\n",
      "3      0.090225    0.286111    1.471845   (00:00)\n",
      "4      0.078222    0.246352    1.145986   (00:00)\n",
      "5      0.064022    0.253517    1.159736   (00:00)\n",
      "\n"
     ]
    }
   ],
   "source": [
    "learn.fit_one_cycle(5, 9e-03)"
   ]
  },
  {
   "cell_type": "markdown",
   "metadata": {},
   "source": [
    "## Inference"
   ]
  },
  {
   "cell_type": "code",
   "execution_count": 170,
   "metadata": {},
   "outputs": [
    {
     "data": {
      "text/plain": [
       "app               payermonstationnement.fr\n",
       "category               MAPS_AND_NAVIGATION\n",
       "rating                                 4.3\n",
       "reviews                                 38\n",
       "size                                  9.8M\n",
       "installs                            5,000+\n",
       "type                                  Free\n",
       "price                                    0\n",
       "content-rating                    Everyone\n",
       "genres                   Maps & Navigation\n",
       "last-updated                 June 13, 2018\n",
       "current-ver                      2.0.148.0\n",
       "android-ver                     4.0 and up\n",
       "Name: 10831, dtype: object"
      ]
     },
     "execution_count": 170,
     "metadata": {},
     "output_type": "execute_result"
    }
   ],
   "source": [
    "row = df.iloc[-10]\n",
    "row"
   ]
  },
  {
   "cell_type": "code",
   "execution_count": 171,
   "metadata": {},
   "outputs": [
    {
     "data": {
      "text/plain": [
       "tensor([[3.9145]])"
      ]
     },
     "execution_count": 171,
     "metadata": {},
     "output_type": "execute_result"
    }
   ],
   "source": [
    "learn.predict(row)"
   ]
  },
  {
   "cell_type": "code",
   "execution_count": null,
   "metadata": {},
   "outputs": [],
   "source": []
  }
 ],
 "metadata": {
  "kernelspec": {
   "display_name": "Python 3",
   "language": "python",
   "name": "python3"
  },
  "language_info": {
   "codemirror_mode": {
    "name": "ipython",
    "version": 3
   },
   "file_extension": ".py",
   "mimetype": "text/x-python",
   "name": "python",
   "nbconvert_exporter": "python",
   "pygments_lexer": "ipython3",
   "version": "3.7.0"
  }
 },
 "nbformat": 4,
 "nbformat_minor": 2
}
