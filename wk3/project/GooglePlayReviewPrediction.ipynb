{
 "cells": [
  {
   "cell_type": "markdown",
   "metadata": {},
   "source": [
    "# Tabular example"
   ]
  },
  {
   "cell_type": "code",
   "execution_count": 90,
   "metadata": {},
   "outputs": [],
   "source": [
    "from fastai import *          # Quick accesss to most common functionality\n",
    "from fastai.tabular import *  # Quick accesss to tabular functionality     # Access to example data provided with fastai"
   ]
  },
  {
   "cell_type": "markdown",
   "metadata": {},
   "source": [
    "Tabular data should be in a Pandas `DataFrame`."
   ]
  },
  {
   "cell_type": "code",
   "execution_count": 91,
   "metadata": {},
   "outputs": [],
   "source": [
    "path = Path('~/.fastai/data/googleplaystore')\n",
    "df = pd.read_csv(path/'googleplaystore.csv')"
   ]
  },
  {
   "cell_type": "code",
   "execution_count": 92,
   "metadata": {},
   "outputs": [],
   "source": [
    "df = df.replace('price', value='/\\D/')\n",
    "median_rating = df['rating'].median()\n",
    "df['rating'].fillna(median_rating, inplace=True)\n",
    "df['rating'] = df['rating'].astype(float)"
   ]
  },
  {
   "cell_type": "code",
   "execution_count": 93,
   "metadata": {},
   "outputs": [],
   "source": [
    "dep_var = 'rating'\n",
    "cat_names = ['app', 'installs', 'category', 'type', 'content-rating', 'genres', 'last-updated', 'current-ver', 'android-ver']\n",
    "cont_names = ['reviews']\n",
    "procs = [FillMissing, Categorify, Normalize]"
   ]
  },
  {
   "cell_type": "code",
   "execution_count": 94,
   "metadata": {},
   "outputs": [],
   "source": [
    "test = TabularList.from_df(df.iloc[:-2000].copy(), path=path, cat_names=cat_names, cont_names=cont_names)"
   ]
  },
  {
   "cell_type": "code",
   "execution_count": 95,
   "metadata": {},
   "outputs": [],
   "source": [
    "valid_idx = range(len(df)-10000, len(df))"
   ]
  },
  {
   "cell_type": "code",
   "execution_count": 96,
   "metadata": {},
   "outputs": [],
   "source": [
    "data = (TabularList.from_df(df, path=path, cat_names=cat_names, cont_names=cont_names, procs=procs)\n",
    "                           .split_by_idx(valid_idx)\n",
    "                           .label_from_df(cols=dep_var, label_cls=FloatList)\n",
    "                           .add_test(test, label=0)\n",
    "                           .databunch())"
   ]
  },
  {
   "cell_type": "code",
   "execution_count": 97,
   "metadata": {},
   "outputs": [
    {
     "data": {
      "text/html": [
       "<table>  <col width='10px'>  <col width='10px'>  <col width='10px'>  <col width='10px'>  <col width='10px'>  <col width='10px'>  <col width='10px'>  <col width='10px'>  <col width='10px'>  <col width='10px'>  <col width='10px'>  <tr>\n",
       "    <th>app</th>\n",
       "    <th>installs</th>\n",
       "    <th>category</th>\n",
       "    <th>type</th>\n",
       "    <th>content-rating</th>\n",
       "    <th>genres</th>\n",
       "    <th>last-updated</th>\n",
       "    <th>current-ver</th>\n",
       "    <th>android-ver</th>\n",
       "    <th>reviews</th>\n",
       "    <th>target</th>\n",
       "  </tr>\n",
       "  <tr>\n",
       "    <th>Chispa, the Dating App for Latino, Latina Singles</th>\n",
       "    <th>100,000+</th>\n",
       "    <th>DATING</th>\n",
       "    <th>Free</th>\n",
       "    <th>Mature 17+</th>\n",
       "    <th>Dating</th>\n",
       "    <th>July 25, 2018</th>\n",
       "    <th>1.6.1</th>\n",
       "    <th>4.4 and up</th>\n",
       "    <th>-0.1562</th>\n",
       "    <th>4.199999809265137</th>\n",
       "  </tr>\n",
       "  <tr>\n",
       "    <th>Random Video Chat</th>\n",
       "    <th>1,000+</th>\n",
       "    <th>DATING</th>\n",
       "    <th>Free</th>\n",
       "    <th>Mature 17+</th>\n",
       "    <th>Dating</th>\n",
       "    <th>July 15, 2018</th>\n",
       "    <th>4.20</th>\n",
       "    <th>4.0.3 and up</th>\n",
       "    <th>-0.1571</th>\n",
       "    <th>4.300000190734863</th>\n",
       "  </tr>\n",
       "  <tr>\n",
       "    <th>U Launcher Lite – FREE Live Cool Themes, Hide Apps</th>\n",
       "    <th>5,000,000+</th>\n",
       "    <th>ART_AND_DESIGN</th>\n",
       "    <th>Free</th>\n",
       "    <th>Everyone</th>\n",
       "    <th>Art & Design</th>\n",
       "    <th>August 1, 2018</th>\n",
       "    <th>1.2.4</th>\n",
       "    <th>4.0.3 and up</th>\n",
       "    <th>-0.1383</th>\n",
       "    <th>4.699999809265137</th>\n",
       "  </tr>\n",
       "  <tr>\n",
       "    <th>FarmersOnly Dating</th>\n",
       "    <th>100,000+</th>\n",
       "    <th>DATING</th>\n",
       "    <th>Free</th>\n",
       "    <th>Mature 17+</th>\n",
       "    <th>Dating</th>\n",
       "    <th>February 25, 2016</th>\n",
       "    <th>2.2</th>\n",
       "    <th>4.0 and up</th>\n",
       "    <th>-0.1569</th>\n",
       "    <th>3.0</th>\n",
       "  </tr>\n",
       "  <tr>\n",
       "    <th>Discover Color</th>\n",
       "    <th>100,000+</th>\n",
       "    <th>BEAUTY</th>\n",
       "    <th>Free</th>\n",
       "    <th>Everyone</th>\n",
       "    <th>Beauty</th>\n",
       "    <th>May 24, 2018</th>\n",
       "    <th>1.1</th>\n",
       "    <th>4.0.3 and up</th>\n",
       "    <th>-0.1570</th>\n",
       "    <th>4.0</th>\n",
       "  </tr>\n",
       "  <tr>\n",
       "    <th>Socratic - Math Answers & Homework Help</th>\n",
       "    <th>1,000,000+</th>\n",
       "    <th>EDUCATION</th>\n",
       "    <th>Free</th>\n",
       "    <th>Everyone</th>\n",
       "    <th>Education</th>\n",
       "    <th>June 7, 2018</th>\n",
       "    <th>1.8.1</th>\n",
       "    <th>4.1 and up</th>\n",
       "    <th>-0.1490</th>\n",
       "    <th>4.599999904632568</th>\n",
       "  </tr>\n",
       "  <tr>\n",
       "    <th>Hide App, Private Dating, Safe Chat - PrivacyHider</th>\n",
       "    <th>1,000,000+</th>\n",
       "    <th>DATING</th>\n",
       "    <th>Free</th>\n",
       "    <th>Everyone</th>\n",
       "    <th>Dating</th>\n",
       "    <th>May 21, 2018</th>\n",
       "    <th>2.9.6</th>\n",
       "    <th>4.0 and up</th>\n",
       "    <th>-0.1495</th>\n",
       "    <th>4.400000095367432</th>\n",
       "  </tr>\n",
       "  <tr>\n",
       "    <th>Google Duo - High Quality Video Calls</th>\n",
       "    <th>500,000,000+</th>\n",
       "    <th>COMMUNICATION</th>\n",
       "    <th>Free</th>\n",
       "    <th>Everyone</th>\n",
       "    <th>Communication</th>\n",
       "    <th>July 31, 2018</th>\n",
       "    <th>37.1.206017801.DR37_RC14</th>\n",
       "    <th>4.4 and up</th>\n",
       "    <th>0.2908</th>\n",
       "    <th>4.599999904632568</th>\n",
       "  </tr>\n",
       "  <tr>\n",
       "    <th>Pink Silver Bow Keyboard Theme</th>\n",
       "    <th>100,000+</th>\n",
       "    <th>ART_AND_DESIGN</th>\n",
       "    <th>Free</th>\n",
       "    <th>Everyone</th>\n",
       "    <th>Art & Design</th>\n",
       "    <th>July 12, 2018</th>\n",
       "    <th>6.7.12.2018</th>\n",
       "    <th>4.0.3 and up</th>\n",
       "    <th>-0.1569</th>\n",
       "    <th>4.199999809265137</th>\n",
       "  </tr>\n",
       "  <tr>\n",
       "    <th>Sudy – Meet Elite & Rich Single</th>\n",
       "    <th>500,000+</th>\n",
       "    <th>DATING</th>\n",
       "    <th>Free</th>\n",
       "    <th>Mature 17+</th>\n",
       "    <th>Dating</th>\n",
       "    <th>June 25, 2018</th>\n",
       "    <th>4.1.2</th>\n",
       "    <th>4.0.3 and up</th>\n",
       "    <th>-0.1534</th>\n",
       "    <th>4.099999904632568</th>\n",
       "  </tr>\n",
       "  <tr>\n",
       "    <th>Meet24 - Love, Chat, Singles</th>\n",
       "    <th>1,000,000+</th>\n",
       "    <th>DATING</th>\n",
       "    <th>Free</th>\n",
       "    <th>Mature 17+</th>\n",
       "    <th>Dating</th>\n",
       "    <th>July 27, 2018</th>\n",
       "    <th>1.31.3</th>\n",
       "    <th>4.0.3 and up</th>\n",
       "    <th>-0.1448</th>\n",
       "    <th>4.199999809265137</th>\n",
       "  </tr>\n",
       "  <tr>\n",
       "    <th>【Ranobbe complete free】 Novelba - Free app that you can read and write novels</th>\n",
       "    <th>50,000+</th>\n",
       "    <th>COMICS</th>\n",
       "    <th>Free</th>\n",
       "    <th>Everyone</th>\n",
       "    <th>Comics</th>\n",
       "    <th>July 3, 2018</th>\n",
       "    <th>6.1.1</th>\n",
       "    <th>4.2 and up</th>\n",
       "    <th>-0.1568</th>\n",
       "    <th>4.300000190734863</th>\n",
       "  </tr>\n",
       "  <tr>\n",
       "    <th>2Date Dating App, Love and matching</th>\n",
       "    <th>500,000+</th>\n",
       "    <th>DATING</th>\n",
       "    <th>Free</th>\n",
       "    <th>Mature 17+</th>\n",
       "    <th>Dating</th>\n",
       "    <th>July 26, 2018</th>\n",
       "    <th>4.813</th>\n",
       "    <th>4.0.3 and up</th>\n",
       "    <th>-0.1482</th>\n",
       "    <th>4.400000095367432</th>\n",
       "  </tr>\n",
       "  <tr>\n",
       "    <th>Natural recipes for your beauty</th>\n",
       "    <th>100,000+</th>\n",
       "    <th>BEAUTY</th>\n",
       "    <th>Free</th>\n",
       "    <th>Everyone</th>\n",
       "    <th>Beauty</th>\n",
       "    <th>May 15, 2018</th>\n",
       "    <th>4.0</th>\n",
       "    <th>4.1 and up</th>\n",
       "    <th>-0.1569</th>\n",
       "    <th>4.699999809265137</th>\n",
       "  </tr>\n",
       "  <tr>\n",
       "    <th>Udemy - Online Courses</th>\n",
       "    <th>1,000,000+</th>\n",
       "    <th>EDUCATION</th>\n",
       "    <th>Free</th>\n",
       "    <th>Everyone</th>\n",
       "    <th>Education</th>\n",
       "    <th>August 2, 2018</th>\n",
       "    <th>5.0.4</th>\n",
       "    <th>5.0 and up</th>\n",
       "    <th>-0.1358</th>\n",
       "    <th>4.5</th>\n",
       "  </tr>\n",
       "  <tr>\n",
       "    <th>Chispa, the Dating App for Latino, Latina Singles</th>\n",
       "    <th>100,000+</th>\n",
       "    <th>DATING</th>\n",
       "    <th>Free</th>\n",
       "    <th>Mature 17+</th>\n",
       "    <th>Dating</th>\n",
       "    <th>July 25, 2018</th>\n",
       "    <th>1.6.1</th>\n",
       "    <th>4.4 and up</th>\n",
       "    <th>-0.1562</th>\n",
       "    <th>4.199999809265137</th>\n",
       "  </tr>\n",
       "  <tr>\n",
       "    <th>eBoox new: Reader for fb2 epub zip books</th>\n",
       "    <th>50,000+</th>\n",
       "    <th>BOOKS_AND_REFERENCE</th>\n",
       "    <th>Free</th>\n",
       "    <th>Everyone</th>\n",
       "    <th>Books & Reference</th>\n",
       "    <th>July 17, 2018</th>\n",
       "    <th>2.0</th>\n",
       "    <th>3.0 and up</th>\n",
       "    <th>-0.1565</th>\n",
       "    <th>4.900000095367432</th>\n",
       "  </tr>\n",
       "  <tr>\n",
       "    <th>Free Dating App - Meet Local Singles - Flirt Chat</th>\n",
       "    <th>100,000+</th>\n",
       "    <th>DATING</th>\n",
       "    <th>Free</th>\n",
       "    <th>Mature 17+</th>\n",
       "    <th>Dating</th>\n",
       "    <th>December 28, 2017</th>\n",
       "    <th>1.0.5</th>\n",
       "    <th>4.0 and up</th>\n",
       "    <th>-0.1569</th>\n",
       "    <th>4.099999904632568</th>\n",
       "  </tr>\n",
       "  <tr>\n",
       "    <th>GMX Mail</th>\n",
       "    <th>10,000,000+</th>\n",
       "    <th>COMMUNICATION</th>\n",
       "    <th>Free</th>\n",
       "    <th>Everyone</th>\n",
       "    <th>Communication</th>\n",
       "    <th>July 25, 2018</th>\n",
       "    <th>Varies with device</th>\n",
       "    <th>Varies with device</th>\n",
       "    <th>-0.1015</th>\n",
       "    <th>4.300000190734863</th>\n",
       "  </tr>\n",
       "  <tr>\n",
       "    <th>Free Dating App & Flirt Chat - Match with Singles</th>\n",
       "    <th>5,000,000+</th>\n",
       "    <th>DATING</th>\n",
       "    <th>Free</th>\n",
       "    <th>Mature 17+</th>\n",
       "    <th>Dating</th>\n",
       "    <th>August 4, 2018</th>\n",
       "    <th>1.639</th>\n",
       "    <th>4.0 and up</th>\n",
       "    <th>-0.1200</th>\n",
       "    <th>4.400000095367432</th>\n",
       "  </tr>\n",
       "</table>\n"
      ],
      "text/plain": [
       "<IPython.core.display.HTML object>"
      ]
     },
     "metadata": {},
     "output_type": "display_data"
    }
   ],
   "source": [
    "data.show_batch(rows=20)"
   ]
  },
  {
   "cell_type": "code",
   "execution_count": 104,
   "metadata": {},
   "outputs": [],
   "source": [
    "learn = get_tabular_learner(data, layers=[50, 50], metrics=exp_rmspe)"
   ]
  },
  {
   "cell_type": "code",
   "execution_count": 106,
   "metadata": {
    "scrolled": true
   },
   "outputs": [
    {
     "name": "stdout",
     "output_type": "stream",
     "text": [
      "Total time: 00:06\n",
      "epoch  train_loss  valid_loss  exp_rmspe\n",
      "1      2.239814    2.011120    0.776614   (00:00)\n",
      "2      1.697729    0.684317    0.790997   (00:00)\n",
      "3      1.090048    0.298678    1.068014   (00:00)\n",
      "4      0.728600    0.321389    1.210407   (00:00)\n",
      "5      0.512963    0.269400    1.181308   (00:00)\n",
      "6      0.378703    0.295304    1.210219   (00:00)\n",
      "7      0.283824    0.301803    1.171761   (00:00)\n",
      "8      0.214776    0.289820    1.159468   (00:00)\n",
      "\n"
     ]
    }
   ],
   "source": [
    "learn.fit_one_cycle(8)"
   ]
  },
  {
   "cell_type": "code",
   "execution_count": 20,
   "metadata": {},
   "outputs": [],
   "source": [
    "# learn.save('first-try')"
   ]
  },
  {
   "cell_type": "code",
   "execution_count": 19,
   "metadata": {},
   "outputs": [
    {
     "ename": "FileNotFoundError",
     "evalue": "[Errno 2] No such file or directory: '~/.fastai/data/googleplaystore/models/first-try.pth'",
     "output_type": "error",
     "traceback": [
      "\u001b[0;31m---------------------------------------------------------------------------\u001b[0m",
      "\u001b[0;31mFileNotFoundError\u001b[0m                         Traceback (most recent call last)",
      "\u001b[0;32m<ipython-input-19-bfe91916c8a2>\u001b[0m in \u001b[0;36m<module>\u001b[0;34m\u001b[0m\n\u001b[0;32m----> 1\u001b[0;31m \u001b[0mlearn\u001b[0m\u001b[0;34m.\u001b[0m\u001b[0mload\u001b[0m\u001b[0;34m(\u001b[0m\u001b[0;34m'first-try'\u001b[0m\u001b[0;34m)\u001b[0m\u001b[0;34m\u001b[0m\u001b[0m\n\u001b[0m",
      "\u001b[0;32m~/fastai/fastai/basic_train.py\u001b[0m in \u001b[0;36mload\u001b[0;34m(self, name, device)\u001b[0m\n\u001b[1;32m    202\u001b[0m         \u001b[0;34m\"Load model `name` from `self.model_dir` using `device`, defaulting to `self.data.device`.\"\u001b[0m\u001b[0;34m\u001b[0m\u001b[0m\n\u001b[1;32m    203\u001b[0m         \u001b[0;32mif\u001b[0m \u001b[0mdevice\u001b[0m \u001b[0;32mis\u001b[0m \u001b[0;32mNone\u001b[0m\u001b[0;34m:\u001b[0m \u001b[0mdevice\u001b[0m \u001b[0;34m=\u001b[0m \u001b[0mself\u001b[0m\u001b[0;34m.\u001b[0m\u001b[0mdata\u001b[0m\u001b[0;34m.\u001b[0m\u001b[0mdevice\u001b[0m\u001b[0;34m\u001b[0m\u001b[0m\n\u001b[0;32m--> 204\u001b[0;31m         \u001b[0mself\u001b[0m\u001b[0;34m.\u001b[0m\u001b[0mmodel\u001b[0m\u001b[0;34m.\u001b[0m\u001b[0mload_state_dict\u001b[0m\u001b[0;34m(\u001b[0m\u001b[0mtorch\u001b[0m\u001b[0;34m.\u001b[0m\u001b[0mload\u001b[0m\u001b[0;34m(\u001b[0m\u001b[0mself\u001b[0m\u001b[0;34m.\u001b[0m\u001b[0mpath\u001b[0m\u001b[0;34m/\u001b[0m\u001b[0mself\u001b[0m\u001b[0;34m.\u001b[0m\u001b[0mmodel_dir\u001b[0m\u001b[0;34m/\u001b[0m\u001b[0;34mf'{name}.pth'\u001b[0m\u001b[0;34m,\u001b[0m \u001b[0mmap_location\u001b[0m\u001b[0;34m=\u001b[0m\u001b[0mdevice\u001b[0m\u001b[0;34m)\u001b[0m\u001b[0;34m)\u001b[0m\u001b[0;34m\u001b[0m\u001b[0m\n\u001b[0m\u001b[1;32m    205\u001b[0m         \u001b[0;32mreturn\u001b[0m \u001b[0mself\u001b[0m\u001b[0;34m\u001b[0m\u001b[0m\n\u001b[1;32m    206\u001b[0m \u001b[0;34m\u001b[0m\u001b[0m\n",
      "\u001b[0;32m~/anaconda3/envs/new-fastai/lib/python3.7/site-packages/torch/serialization.py\u001b[0m in \u001b[0;36mload\u001b[0;34m(f, map_location, pickle_module)\u001b[0m\n\u001b[1;32m    354\u001b[0m             \u001b[0;34m(\u001b[0m\u001b[0msys\u001b[0m\u001b[0;34m.\u001b[0m\u001b[0mversion_info\u001b[0m\u001b[0;34m[\u001b[0m\u001b[0;36m0\u001b[0m\u001b[0;34m]\u001b[0m \u001b[0;34m==\u001b[0m \u001b[0;36m3\u001b[0m \u001b[0;32mand\u001b[0m \u001b[0misinstance\u001b[0m\u001b[0;34m(\u001b[0m\u001b[0mf\u001b[0m\u001b[0;34m,\u001b[0m \u001b[0mpathlib\u001b[0m\u001b[0;34m.\u001b[0m\u001b[0mPath\u001b[0m\u001b[0;34m)\u001b[0m\u001b[0;34m)\u001b[0m\u001b[0;34m:\u001b[0m\u001b[0;34m\u001b[0m\u001b[0m\n\u001b[1;32m    355\u001b[0m         \u001b[0mnew_fd\u001b[0m \u001b[0;34m=\u001b[0m \u001b[0;32mTrue\u001b[0m\u001b[0;34m\u001b[0m\u001b[0m\n\u001b[0;32m--> 356\u001b[0;31m         \u001b[0mf\u001b[0m \u001b[0;34m=\u001b[0m \u001b[0mopen\u001b[0m\u001b[0;34m(\u001b[0m\u001b[0mf\u001b[0m\u001b[0;34m,\u001b[0m \u001b[0;34m'rb'\u001b[0m\u001b[0;34m)\u001b[0m\u001b[0;34m\u001b[0m\u001b[0m\n\u001b[0m\u001b[1;32m    357\u001b[0m     \u001b[0;32mtry\u001b[0m\u001b[0;34m:\u001b[0m\u001b[0;34m\u001b[0m\u001b[0m\n\u001b[1;32m    358\u001b[0m         \u001b[0;32mreturn\u001b[0m \u001b[0m_load\u001b[0m\u001b[0;34m(\u001b[0m\u001b[0mf\u001b[0m\u001b[0;34m,\u001b[0m \u001b[0mmap_location\u001b[0m\u001b[0;34m,\u001b[0m \u001b[0mpickle_module\u001b[0m\u001b[0;34m)\u001b[0m\u001b[0;34m\u001b[0m\u001b[0m\n",
      "\u001b[0;31mFileNotFoundError\u001b[0m: [Errno 2] No such file or directory: '~/.fastai/data/googleplaystore/models/first-try.pth'"
     ]
    }
   ],
   "source": [
    "learn.load('first-try')"
   ]
  },
  {
   "cell_type": "code",
   "execution_count": 21,
   "metadata": {},
   "outputs": [
    {
     "name": "stdout",
     "output_type": "stream",
     "text": [
      "LR Finder is complete, type {learner_name}.recorder.plot() to see the graph.\n"
     ]
    },
    {
     "data": {
      "image/png": "[encoded data removed]",
      "text/plain": [
       "<Figure size 432x288 with 1 Axes>"
      ]
     },
     "metadata": {
      "needs_background": "light"
     },
     "output_type": "display_data"
    }
   ],
   "source": [
    "learn.lr_find()\n",
    "learn.recorder.plot()"
   ]
  },
  {
   "cell_type": "code",
   "execution_count": 165,
   "metadata": {},
   "outputs": [
    {
     "name": "stdout",
     "output_type": "stream",
     "text": [
      "Total time: 00:04\n",
      "epoch  train_loss  valid_loss  exp_rmspe\n",
      "1      0.079574    0.300090    1.060873   (00:00)\n",
      "2      0.085294    0.276419    1.383088   (00:00)\n",
      "3      0.090225    0.286111    1.471845   (00:00)\n",
      "4      0.078222    0.246352    1.145986   (00:00)\n",
      "5      0.064022    0.253517    1.159736   (00:00)\n",
      "\n"
     ]
    }
   ],
   "source": [
    "learn.fit_one_cycle(5, 9e-03)"
   ]
  },
  {
   "cell_type": "markdown",
   "metadata": {},
   "source": [
    "## Inference"
   ]
  },
  {
   "cell_type": "code",
   "execution_count": 109,
   "metadata": {},
   "outputs": [
    {
     "name": "stdout",
     "output_type": "stream",
     "text": [
      "app               iHoroscope - 2018 Daily Horoscope & Astrology\n",
      "category                                              LIFESTYLE\n",
      "rating                                                      4.5\n",
      "reviews                                                  398307\n",
      "size                                                        19M\n",
      "installs                                            10,000,000+\n",
      "type                                                       Free\n",
      "price                                                         0\n",
      "content-rating                                         Everyone\n",
      "genres                                                Lifestyle\n",
      "last-updated                                      July 25, 2018\n",
      "current-ver                                  Varies with device\n",
      "android-ver                                  Varies with device\n",
      "Name: 10840, dtype: object\n"
     ]
    }
   ],
   "source": [
    "row = df.iloc[-1]\n",
    "print(row)"
   ]
  },
  {
   "cell_type": "code",
   "execution_count": 110,
   "metadata": {},
   "outputs": [
    {
     "data": {
      "text/plain": [
       "tensor([[4.1664]])"
      ]
     },
     "execution_count": 110,
     "metadata": {},
     "output_type": "execute_result"
    }
   ],
   "source": [
    "learn.predict(row)"
   ]
  },
  {
   "cell_type": "code",
   "execution_count": null,
   "metadata": {},
   "outputs": [],
   "source": []
  }
 ],
 "metadata": {
  "kernelspec": {
   "display_name": "Python 3",
   "language": "python",
   "name": "python3"
  },
  "language_info": {
   "codemirror_mode": {
    "name": "ipython",
    "version": 3
   },
   "file_extension": ".py",
   "mimetype": "text/x-python",
   "name": "python",
   "nbconvert_exporter": "python",
   "pygments_lexer": "ipython3",
   "version": "3.7.0"
  }
 },
 "nbformat": 4,
 "nbformat_minor": 2
}
